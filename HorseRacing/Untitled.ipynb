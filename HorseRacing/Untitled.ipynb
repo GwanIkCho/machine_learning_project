{
 "cells": [
  {
   "cell_type": "markdown",
   "id": "6a37b0fb-fed5-432d-afbb-9b3fe34ff866",
   "metadata": {},
   "source": [
    "### 경마 승률예측\n",
    "\n",
    "#### Features\n",
    "         \n",
    " -  dtypes: bool(2), float64(381), int64(26), object(15)\n",
    " -  총 427개의 피쳐       \n",
    "\n",
    "#### Target\n",
    "\n",
    " -  Win Odds : 승리 확률\n",
    "\n",
    "    \n",
    "---\n",
    "\n",
    "- 데이터에 결측지, 중복행 X\n",
    "\n",
    "- 먼저 전체 모델들을 이용하여 선형 회귀 예측을 수행\n",
    "<img src='./image/img01.png'>\n",
    "\n",
    "- 트리모델들의 R2가 매우 높은수치를 보이고 있어 과적합 가능성이 있고 확인필요\n",
    "\n",
    "---\n",
    "#### LGBM모델 사용\n",
    "\n",
    "- Kfold cross_val_score를 통한 비교\n",
    "<img src='./image/img02.png'>\n",
    "\n",
    "-  Pytorch를 통해 loss를 통한 비교\n",
    "<img src='./image/img03.png'>\n",
    "\n",
    "-  LGBM모델 사용하였을때 학습데이터와 테스트 데이터의 대한 예측값\n",
    "<img src='./image/img04.png'>\n",
    "\n",
    "---\n",
    "\n",
    "#### 차원축소\n",
    "\n",
    "- LGBM모델을 이용 pca로 차원축소 진행\n",
    "<img src='./image/img05.png'>\n",
    "\n",
    "- 과적합 의심\n",
    "<img src='./image/img06.png'>\n",
    "\n",
    "- Ridge사용하여 과적합 방지\n",
    "<img src='./image/img07.png'>\n",
    "\n"
   ]
  },
  {
   "cell_type": "code",
   "execution_count": null,
   "id": "2ca3e581-966f-4f47-95af-e9e74f6c40cc",
   "metadata": {},
   "outputs": [],
   "source": []
  }
 ],
 "metadata": {
  "kernelspec": {
   "display_name": "Python 3 (ipykernel)",
   "language": "python",
   "name": "python3"
  },
  "language_info": {
   "codemirror_mode": {
    "name": "ipython",
    "version": 3
   },
   "file_extension": ".py",
   "mimetype": "text/x-python",
   "name": "python",
   "nbconvert_exporter": "python",
   "pygments_lexer": "ipython3",
   "version": "3.11.8"
  }
 },
 "nbformat": 4,
 "nbformat_minor": 5
}
