{
 "cells": [
  {
   "attachments": {},
   "cell_type": "markdown",
   "id": "8b3e33d1-5419-4ecd-bc78-b1a46a4eb012",
   "metadata": {},
   "source": [
    "#### 물류 비용 예측\n",
    "\n",
    "#### Features\n",
    "         \n",
    " -  name: 물품명             \n",
    " -  weight (kg): 무게 (킬로그램)      \n",
    " -  length (m): 길이 (미터)       \n",
    " -  width (m): 너비 (미터)        \n",
    " -  height (m): 높이 (미터)       \n",
    " -  destination port: 목적지 항구             \n",
    "\n",
    "#### Target\n",
    "\n",
    " -  price ($): 가격 (달러)\n",
    "\n",
    "    \n",
    "---\n",
    "\n",
    "- 데이터에 소량의 결측치 제거(213개)  \n",
    "\n",
    "- PowerTransformer 적용  \n",
    "- \n",
    "<img src='./image/img01.png'><img src='./image/img02.png'>\n",
    "\n",
    "- LinearRegression 의 R2가 045859로 매우낮은 수치를 보이고 있으며 다른 모델들은 높은 수치를 보여주고있다.\n",
    "요<img src='./image/img3.png'>\n",
    "\n",
    "- PolynomialFeatures을 사용하여 비선형 확인(degree=6)\n",
    "<img src='./image/img4.png'>\n",
    "\n",
    "---\n",
    "\n",
    "- LGB의 R2가 0.9381로 과적합 가능성이 있고 확인필요  \n",
    "\n",
    "- Kfold cross_val_score를 통한 비교\n",
    "<img src='./image/img5.png'>      \n",
    "   \n",
    "   g- e\r\n",
    "Pytorch를 통해 loss한 비교   \n",
    "<img src='./image/img6.png'>    \n",
    "   비- LinearRegression 사용하였을때 학습데이터와 테스트 데이터의 대한 예측값  \n",
    "<img src='./image/img7.png'>  \n",
    "  \n",
    "g'>\n",
    "\n",
    "ha=4000) 및 차원축소(2차원)\r\n",
    "\r\n",
    "<img src='./image/nba05.png'>\r\n",
    "\r\n"
   ]
  }
 ],
 "metadata": {
  "kernelspec": {
   "display_name": "Python 3 (ipykernel)",
   "language": "python",
   "name": "python3"
  },
  "language_info": {
   "codemirror_mode": {
    "name": "ipython",
    "version": 3
   },
   "file_extension": ".py",
   "mimetype": "text/x-python",
   "name": "python",
   "nbconvert_exporter": "python",
   "pygments_lexer": "ipython3",
   "version": "3.11.8"
  }
 },
 "nbformat": 4,
 "nbformat_minor": 5
}
